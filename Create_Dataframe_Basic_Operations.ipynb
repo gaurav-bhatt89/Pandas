{
 "cells": [
  {
   "cell_type": "code",
   "execution_count": 1,
   "id": "d0f8ae4b-dad4-4df0-8957-fc6a69a52586",
   "metadata": {},
   "outputs": [],
   "source": [
    "## Python - Pandas library "
   ]
  },
  {
   "cell_type": "code",
   "execution_count": 7,
   "id": "957b10b1-daee-4797-843a-6b2b830311a9",
   "metadata": {},
   "outputs": [],
   "source": [
    "import numpy as np # Numerical Python library used to perform numerical operations\n",
    "import pandas as pd # Pandas library used to handle and analyze structured data"
   ]
  },
  {
   "cell_type": "code",
   "execution_count": 14,
   "id": "dbe5a3a5-8b29-463f-b5a0-f5bcaceb36a5",
   "metadata": {},
   "outputs": [],
   "source": [
    "from numpy.random import randn # this randn function will return sample values from a standard normal distribution"
   ]
  },
  {
   "cell_type": "code",
   "execution_count": 16,
   "id": "920dc732-4a32-456a-99ae-5ad8ab09c5a7",
   "metadata": {},
   "outputs": [],
   "source": [
    "## We will create a dataframe using randn function and perform some basic operations"
   ]
  },
  {
   "cell_type": "code",
   "execution_count": 20,
   "id": "17857fc9-5992-4b2d-b863-b668feb75516",
   "metadata": {},
   "outputs": [],
   "source": [
    "## pd.DataFrame - this 'DataFrame' class will help us create a DataFrame using the data \n",
    "## Since we are creating a table of 5 rows and 5 columns, we will have to specify the column and index titles\n",
    "## Finally we are assigning the output of entire code to the variable 'df' which will be out dataframe\n",
    "df = pd.DataFrame(randn(5,5),columns=['V','W','X','Y','Z'],index=['A','B','C','D','E'])"
   ]
  },
  {
   "cell_type": "code",
   "execution_count": 26,
   "id": "6ef81e1d-01f9-43aa-bfcb-b9c109efef09",
   "metadata": {},
   "outputs": [
    {
     "data": {
      "text/html": [
       "<div>\n",
       "<style scoped>\n",
       "    .dataframe tbody tr th:only-of-type {\n",
       "        vertical-align: middle;\n",
       "    }\n",
       "\n",
       "    .dataframe tbody tr th {\n",
       "        vertical-align: top;\n",
       "    }\n",
       "\n",
       "    .dataframe thead th {\n",
       "        text-align: right;\n",
       "    }\n",
       "</style>\n",
       "<table border=\"1\" class=\"dataframe\">\n",
       "  <thead>\n",
       "    <tr style=\"text-align: right;\">\n",
       "      <th></th>\n",
       "      <th>V</th>\n",
       "      <th>W</th>\n",
       "      <th>X</th>\n",
       "      <th>Y</th>\n",
       "      <th>Z</th>\n",
       "    </tr>\n",
       "  </thead>\n",
       "  <tbody>\n",
       "    <tr>\n",
       "      <th>A</th>\n",
       "      <td>-0.803610</td>\n",
       "      <td>-0.496456</td>\n",
       "      <td>-0.369699</td>\n",
       "      <td>-0.589541</td>\n",
       "      <td>-1.393947</td>\n",
       "    </tr>\n",
       "    <tr>\n",
       "      <th>B</th>\n",
       "      <td>-0.485744</td>\n",
       "      <td>0.115470</td>\n",
       "      <td>0.739598</td>\n",
       "      <td>1.394395</td>\n",
       "      <td>-1.319292</td>\n",
       "    </tr>\n",
       "    <tr>\n",
       "      <th>C</th>\n",
       "      <td>-0.359874</td>\n",
       "      <td>1.345249</td>\n",
       "      <td>1.030684</td>\n",
       "      <td>-0.329996</td>\n",
       "      <td>-0.511895</td>\n",
       "    </tr>\n",
       "    <tr>\n",
       "      <th>D</th>\n",
       "      <td>-0.749256</td>\n",
       "      <td>1.987287</td>\n",
       "      <td>-2.111953</td>\n",
       "      <td>0.970102</td>\n",
       "      <td>0.844873</td>\n",
       "    </tr>\n",
       "    <tr>\n",
       "      <th>E</th>\n",
       "      <td>0.725691</td>\n",
       "      <td>0.101200</td>\n",
       "      <td>-0.444215</td>\n",
       "      <td>1.510840</td>\n",
       "      <td>-1.230091</td>\n",
       "    </tr>\n",
       "  </tbody>\n",
       "</table>\n",
       "</div>"
      ],
      "text/plain": [
       "          V         W         X         Y         Z\n",
       "A -0.803610 -0.496456 -0.369699 -0.589541 -1.393947\n",
       "B -0.485744  0.115470  0.739598  1.394395 -1.319292\n",
       "C -0.359874  1.345249  1.030684 -0.329996 -0.511895\n",
       "D -0.749256  1.987287 -2.111953  0.970102  0.844873\n",
       "E  0.725691  0.101200 -0.444215  1.510840 -1.230091"
      ]
     },
     "execution_count": 26,
     "metadata": {},
     "output_type": "execute_result"
    }
   ],
   "source": [
    "## We can can check the dataframe and its some values by typing the dataframe name (We can als use .head(5) operator to limit to first 5 rows)\n",
    "df"
   ]
  },
  {
   "cell_type": "code",
   "execution_count": 70,
   "id": "7af03bde-da85-41ab-bae8-1ae7805c336c",
   "metadata": {},
   "outputs": [
    {
     "data": {
      "text/html": [
       "<div>\n",
       "<style scoped>\n",
       "    .dataframe tbody tr th:only-of-type {\n",
       "        vertical-align: middle;\n",
       "    }\n",
       "\n",
       "    .dataframe tbody tr th {\n",
       "        vertical-align: top;\n",
       "    }\n",
       "\n",
       "    .dataframe thead th {\n",
       "        text-align: right;\n",
       "    }\n",
       "</style>\n",
       "<table border=\"1\" class=\"dataframe\">\n",
       "  <thead>\n",
       "    <tr style=\"text-align: right;\">\n",
       "      <th></th>\n",
       "      <th>V</th>\n",
       "      <th>W</th>\n",
       "      <th>X</th>\n",
       "      <th>Y</th>\n",
       "      <th>Z</th>\n",
       "      <th>Total</th>\n",
       "    </tr>\n",
       "  </thead>\n",
       "  <tbody>\n",
       "    <tr>\n",
       "      <th>V</th>\n",
       "      <td>1.000000</td>\n",
       "      <td>-0.211454</td>\n",
       "      <td>0.143259</td>\n",
       "      <td>0.521293</td>\n",
       "      <td>-0.336455</td>\n",
       "      <td>0.386277</td>\n",
       "    </tr>\n",
       "    <tr>\n",
       "      <th>W</th>\n",
       "      <td>-0.211454</td>\n",
       "      <td>1.000000</td>\n",
       "      <td>-0.372056</td>\n",
       "      <td>0.071137</td>\n",
       "      <td>0.936712</td>\n",
       "      <td>0.686909</td>\n",
       "    </tr>\n",
       "    <tr>\n",
       "      <th>X</th>\n",
       "      <td>0.143259</td>\n",
       "      <td>-0.372056</td>\n",
       "      <td>1.000000</td>\n",
       "      <td>-0.231190</td>\n",
       "      <td>-0.654236</td>\n",
       "      <td>0.050924</td>\n",
       "    </tr>\n",
       "    <tr>\n",
       "      <th>Y</th>\n",
       "      <td>0.521293</td>\n",
       "      <td>0.071137</td>\n",
       "      <td>-0.231190</td>\n",
       "      <td>1.000000</td>\n",
       "      <td>0.066306</td>\n",
       "      <td>0.574611</td>\n",
       "    </tr>\n",
       "    <tr>\n",
       "      <th>Z</th>\n",
       "      <td>-0.336455</td>\n",
       "      <td>0.936712</td>\n",
       "      <td>-0.654236</td>\n",
       "      <td>0.066306</td>\n",
       "      <td>1.000000</td>\n",
       "      <td>0.470012</td>\n",
       "    </tr>\n",
       "    <tr>\n",
       "      <th>Total</th>\n",
       "      <td>0.386277</td>\n",
       "      <td>0.686909</td>\n",
       "      <td>0.050924</td>\n",
       "      <td>0.574611</td>\n",
       "      <td>0.470012</td>\n",
       "      <td>1.000000</td>\n",
       "    </tr>\n",
       "  </tbody>\n",
       "</table>\n",
       "</div>"
      ],
      "text/plain": [
       "              V         W         X         Y         Z     Total\n",
       "V      1.000000 -0.211454  0.143259  0.521293 -0.336455  0.386277\n",
       "W     -0.211454  1.000000 -0.372056  0.071137  0.936712  0.686909\n",
       "X      0.143259 -0.372056  1.000000 -0.231190 -0.654236  0.050924\n",
       "Y      0.521293  0.071137 -0.231190  1.000000  0.066306  0.574611\n",
       "Z     -0.336455  0.936712 -0.654236  0.066306  1.000000  0.470012\n",
       "Total  0.386277  0.686909  0.050924  0.574611  0.470012  1.000000"
      ]
     },
     "execution_count": 70,
     "metadata": {},
     "output_type": "execute_result"
    }
   ],
   "source": [
    "## To check the correlation of all the values with one another we can use the .corr function\n",
    "df.corr(numeric_only=True)"
   ]
  },
  {
   "cell_type": "code",
   "execution_count": 72,
   "id": "be974b4c-22fd-4ed6-98ba-6e2fecc22ebb",
   "metadata": {},
   "outputs": [
    {
     "data": {
      "text/html": [
       "<div>\n",
       "<style scoped>\n",
       "    .dataframe tbody tr th:only-of-type {\n",
       "        vertical-align: middle;\n",
       "    }\n",
       "\n",
       "    .dataframe tbody tr th {\n",
       "        vertical-align: top;\n",
       "    }\n",
       "\n",
       "    .dataframe thead th {\n",
       "        text-align: right;\n",
       "    }\n",
       "</style>\n",
       "<table border=\"1\" class=\"dataframe\">\n",
       "  <thead>\n",
       "    <tr style=\"text-align: right;\">\n",
       "      <th></th>\n",
       "      <th>V</th>\n",
       "      <th>W</th>\n",
       "      <th>X</th>\n",
       "      <th>Y</th>\n",
       "      <th>Z</th>\n",
       "      <th>Total</th>\n",
       "    </tr>\n",
       "  </thead>\n",
       "  <tbody>\n",
       "    <tr>\n",
       "      <th>count</th>\n",
       "      <td>5.000000</td>\n",
       "      <td>5.000000</td>\n",
       "      <td>5.000000</td>\n",
       "      <td>5.000000</td>\n",
       "      <td>5.000000</td>\n",
       "      <td>5.000000</td>\n",
       "    </tr>\n",
       "    <tr>\n",
       "      <th>mean</th>\n",
       "      <td>-0.334559</td>\n",
       "      <td>0.610550</td>\n",
       "      <td>-0.231117</td>\n",
       "      <td>0.591160</td>\n",
       "      <td>-0.722070</td>\n",
       "      <td>-0.086036</td>\n",
       "    </tr>\n",
       "    <tr>\n",
       "      <th>std</th>\n",
       "      <td>0.620405</td>\n",
       "      <td>1.020440</td>\n",
       "      <td>1.238607</td>\n",
       "      <td>0.984528</td>\n",
       "      <td>0.944148</td>\n",
       "      <td>2.013153</td>\n",
       "    </tr>\n",
       "    <tr>\n",
       "      <th>min</th>\n",
       "      <td>-0.803610</td>\n",
       "      <td>-0.496456</td>\n",
       "      <td>-2.111953</td>\n",
       "      <td>-0.589541</td>\n",
       "      <td>-1.393947</td>\n",
       "      <td>-3.653253</td>\n",
       "    </tr>\n",
       "    <tr>\n",
       "      <th>25%</th>\n",
       "      <td>-0.749256</td>\n",
       "      <td>0.101200</td>\n",
       "      <td>-0.444215</td>\n",
       "      <td>-0.329996</td>\n",
       "      <td>-1.319292</td>\n",
       "      <td>0.444426</td>\n",
       "    </tr>\n",
       "    <tr>\n",
       "      <th>50%</th>\n",
       "      <td>-0.485744</td>\n",
       "      <td>0.115470</td>\n",
       "      <td>-0.369699</td>\n",
       "      <td>0.970102</td>\n",
       "      <td>-1.230091</td>\n",
       "      <td>0.663425</td>\n",
       "    </tr>\n",
       "    <tr>\n",
       "      <th>75%</th>\n",
       "      <td>-0.359874</td>\n",
       "      <td>1.345249</td>\n",
       "      <td>0.739598</td>\n",
       "      <td>1.394395</td>\n",
       "      <td>-0.511895</td>\n",
       "      <td>0.941053</td>\n",
       "    </tr>\n",
       "    <tr>\n",
       "      <th>max</th>\n",
       "      <td>0.725691</td>\n",
       "      <td>1.987287</td>\n",
       "      <td>1.030684</td>\n",
       "      <td>1.510840</td>\n",
       "      <td>0.844873</td>\n",
       "      <td>1.174168</td>\n",
       "    </tr>\n",
       "  </tbody>\n",
       "</table>\n",
       "</div>"
      ],
      "text/plain": [
       "              V         W         X         Y         Z     Total\n",
       "count  5.000000  5.000000  5.000000  5.000000  5.000000  5.000000\n",
       "mean  -0.334559  0.610550 -0.231117  0.591160 -0.722070 -0.086036\n",
       "std    0.620405  1.020440  1.238607  0.984528  0.944148  2.013153\n",
       "min   -0.803610 -0.496456 -2.111953 -0.589541 -1.393947 -3.653253\n",
       "25%   -0.749256  0.101200 -0.444215 -0.329996 -1.319292  0.444426\n",
       "50%   -0.485744  0.115470 -0.369699  0.970102 -1.230091  0.663425\n",
       "75%   -0.359874  1.345249  0.739598  1.394395 -0.511895  0.941053\n",
       "max    0.725691  1.987287  1.030684  1.510840  0.844873  1.174168"
      ]
     },
     "execution_count": 72,
     "metadata": {},
     "output_type": "execute_result"
    }
   ],
   "source": [
    "## The .describe function will provide the general descriptive statistics of the entire dataframe \n",
    "df.describe()"
   ]
  },
  {
   "cell_type": "code",
   "execution_count": 30,
   "id": "027e795a-0ee4-4388-8850-8881660f63d9",
   "metadata": {},
   "outputs": [
    {
     "data": {
      "text/plain": [
       "A   -0.496456\n",
       "B    0.115470\n",
       "C    1.345249\n",
       "D    1.987287\n",
       "E    0.101200\n",
       "Name: W, dtype: float64"
      ]
     },
     "execution_count": 30,
     "metadata": {},
     "output_type": "execute_result"
    }
   ],
   "source": [
    "## We can grab any columns using the bracket notation\n",
    "df['W'] ## will grab only the W column"
   ]
  },
  {
   "cell_type": "code",
   "execution_count": 34,
   "id": "655300cc-53ce-4ea9-8f77-13d574abe1eb",
   "metadata": {},
   "outputs": [
    {
     "data": {
      "text/html": [
       "<div>\n",
       "<style scoped>\n",
       "    .dataframe tbody tr th:only-of-type {\n",
       "        vertical-align: middle;\n",
       "    }\n",
       "\n",
       "    .dataframe tbody tr th {\n",
       "        vertical-align: top;\n",
       "    }\n",
       "\n",
       "    .dataframe thead th {\n",
       "        text-align: right;\n",
       "    }\n",
       "</style>\n",
       "<table border=\"1\" class=\"dataframe\">\n",
       "  <thead>\n",
       "    <tr style=\"text-align: right;\">\n",
       "      <th></th>\n",
       "      <th>W</th>\n",
       "      <th>Z</th>\n",
       "    </tr>\n",
       "  </thead>\n",
       "  <tbody>\n",
       "    <tr>\n",
       "      <th>A</th>\n",
       "      <td>-0.496456</td>\n",
       "      <td>-1.393947</td>\n",
       "    </tr>\n",
       "    <tr>\n",
       "      <th>B</th>\n",
       "      <td>0.115470</td>\n",
       "      <td>-1.319292</td>\n",
       "    </tr>\n",
       "    <tr>\n",
       "      <th>C</th>\n",
       "      <td>1.345249</td>\n",
       "      <td>-0.511895</td>\n",
       "    </tr>\n",
       "    <tr>\n",
       "      <th>D</th>\n",
       "      <td>1.987287</td>\n",
       "      <td>0.844873</td>\n",
       "    </tr>\n",
       "    <tr>\n",
       "      <th>E</th>\n",
       "      <td>0.101200</td>\n",
       "      <td>-1.230091</td>\n",
       "    </tr>\n",
       "  </tbody>\n",
       "</table>\n",
       "</div>"
      ],
      "text/plain": [
       "          W         Z\n",
       "A -0.496456 -1.393947\n",
       "B  0.115470 -1.319292\n",
       "C  1.345249 -0.511895\n",
       "D  1.987287  0.844873\n",
       "E  0.101200 -1.230091"
      ]
     },
     "execution_count": 34,
     "metadata": {},
     "output_type": "execute_result"
    }
   ],
   "source": [
    "## If you want to grab two columns then\n",
    "df[['W','Z']] ## add the columns names into the double brackets"
   ]
  },
  {
   "cell_type": "code",
   "execution_count": 44,
   "id": "b5e52866-e6a1-42a3-ab4e-be9b717186d4",
   "metadata": {},
   "outputs": [
    {
     "data": {
      "text/html": [
       "<div>\n",
       "<style scoped>\n",
       "    .dataframe tbody tr th:only-of-type {\n",
       "        vertical-align: middle;\n",
       "    }\n",
       "\n",
       "    .dataframe tbody tr th {\n",
       "        vertical-align: top;\n",
       "    }\n",
       "\n",
       "    .dataframe thead th {\n",
       "        text-align: right;\n",
       "    }\n",
       "</style>\n",
       "<table border=\"1\" class=\"dataframe\">\n",
       "  <thead>\n",
       "    <tr style=\"text-align: right;\">\n",
       "      <th></th>\n",
       "      <th>V</th>\n",
       "      <th>Z</th>\n",
       "    </tr>\n",
       "  </thead>\n",
       "  <tbody>\n",
       "    <tr>\n",
       "      <th>A</th>\n",
       "      <td>-0.80361</td>\n",
       "      <td>-1.393947</td>\n",
       "    </tr>\n",
       "  </tbody>\n",
       "</table>\n",
       "</div>"
      ],
      "text/plain": [
       "         V         Z\n",
       "A -0.80361 -1.393947"
      ]
     },
     "execution_count": 44,
     "metadata": {},
     "output_type": "execute_result"
    }
   ],
   "source": [
    "## If you just want the first row of column V and Z, grab it with the [0:1] after selecting the columns.\n",
    "## [0:1] means that all the rows starting from index 0 to but not including index 1 (which means only row 0)\n",
    "df[['V','Z']][0:1]"
   ]
  },
  {
   "cell_type": "code",
   "execution_count": 46,
   "id": "8a657525-0cae-47f1-9e82-066c7bc9c0d1",
   "metadata": {},
   "outputs": [
    {
     "data": {
      "text/html": [
       "<div>\n",
       "<style scoped>\n",
       "    .dataframe tbody tr th:only-of-type {\n",
       "        vertical-align: middle;\n",
       "    }\n",
       "\n",
       "    .dataframe tbody tr th {\n",
       "        vertical-align: top;\n",
       "    }\n",
       "\n",
       "    .dataframe thead th {\n",
       "        text-align: right;\n",
       "    }\n",
       "</style>\n",
       "<table border=\"1\" class=\"dataframe\">\n",
       "  <thead>\n",
       "    <tr style=\"text-align: right;\">\n",
       "      <th></th>\n",
       "      <th>V</th>\n",
       "      <th>Z</th>\n",
       "    </tr>\n",
       "  </thead>\n",
       "  <tbody>\n",
       "    <tr>\n",
       "      <th>A</th>\n",
       "      <td>-0.803610</td>\n",
       "      <td>-1.393947</td>\n",
       "    </tr>\n",
       "    <tr>\n",
       "      <th>B</th>\n",
       "      <td>-0.485744</td>\n",
       "      <td>-1.319292</td>\n",
       "    </tr>\n",
       "  </tbody>\n",
       "</table>\n",
       "</div>"
      ],
      "text/plain": [
       "          V         Z\n",
       "A -0.803610 -1.393947\n",
       "B -0.485744 -1.319292"
      ]
     },
     "execution_count": 46,
     "metadata": {},
     "output_type": "execute_result"
    }
   ],
   "source": [
    "## If you want to grab first two rows of columns V and Z, grab it with the [0:2] after selecting the columns.\n",
    "df[['V','Z']][0:2]"
   ]
  },
  {
   "cell_type": "code",
   "execution_count": 54,
   "id": "620a15d7-c0f1-48d4-b125-5295d6c0afc8",
   "metadata": {},
   "outputs": [
    {
     "data": {
      "text/plain": [
       "V   -1.672793\n",
       "W    3.052749\n",
       "X   -1.155585\n",
       "Y    2.955799\n",
       "Z   -3.610352\n",
       "dtype: float64"
      ]
     },
     "execution_count": 54,
     "metadata": {},
     "output_type": "execute_result"
    }
   ],
   "source": [
    "## If you want to do a sum of all the rows, we can do it using the .sum operator\n",
    "df.sum()"
   ]
  },
  {
   "cell_type": "code",
   "execution_count": 56,
   "id": "1e68a064-c3e5-44c5-ad8d-20c11b162fbf",
   "metadata": {},
   "outputs": [
    {
     "data": {
      "text/plain": [
       "A   -3.653253\n",
       "B    0.444426\n",
       "C    1.174168\n",
       "D    0.941053\n",
       "E    0.663425\n",
       "dtype: float64"
      ]
     },
     "execution_count": 56,
     "metadata": {},
     "output_type": "execute_result"
    }
   ],
   "source": [
    "## If you want to do a sum of all the columns, we can do it using the same .sum operator but this time with an axis indicator\n",
    "df.sum(axis=1)"
   ]
  },
  {
   "cell_type": "code",
   "execution_count": 68,
   "id": "78de9dfc-0bb0-40b2-9291-51fb571bacad",
   "metadata": {},
   "outputs": [
    {
     "data": {
      "text/html": [
       "<div>\n",
       "<style scoped>\n",
       "    .dataframe tbody tr th:only-of-type {\n",
       "        vertical-align: middle;\n",
       "    }\n",
       "\n",
       "    .dataframe tbody tr th {\n",
       "        vertical-align: top;\n",
       "    }\n",
       "\n",
       "    .dataframe thead th {\n",
       "        text-align: right;\n",
       "    }\n",
       "</style>\n",
       "<table border=\"1\" class=\"dataframe\">\n",
       "  <thead>\n",
       "    <tr style=\"text-align: right;\">\n",
       "      <th></th>\n",
       "      <th>V</th>\n",
       "      <th>W</th>\n",
       "      <th>X</th>\n",
       "      <th>Y</th>\n",
       "      <th>Z</th>\n",
       "      <th>Total</th>\n",
       "    </tr>\n",
       "  </thead>\n",
       "  <tbody>\n",
       "    <tr>\n",
       "      <th>A</th>\n",
       "      <td>-0.803610</td>\n",
       "      <td>-0.496456</td>\n",
       "      <td>-0.369699</td>\n",
       "      <td>-0.589541</td>\n",
       "      <td>-1.393947</td>\n",
       "      <td>-3.653253</td>\n",
       "    </tr>\n",
       "    <tr>\n",
       "      <th>B</th>\n",
       "      <td>-0.485744</td>\n",
       "      <td>0.115470</td>\n",
       "      <td>0.739598</td>\n",
       "      <td>1.394395</td>\n",
       "      <td>-1.319292</td>\n",
       "      <td>0.444426</td>\n",
       "    </tr>\n",
       "    <tr>\n",
       "      <th>C</th>\n",
       "      <td>-0.359874</td>\n",
       "      <td>1.345249</td>\n",
       "      <td>1.030684</td>\n",
       "      <td>-0.329996</td>\n",
       "      <td>-0.511895</td>\n",
       "      <td>1.174168</td>\n",
       "    </tr>\n",
       "    <tr>\n",
       "      <th>D</th>\n",
       "      <td>-0.749256</td>\n",
       "      <td>1.987287</td>\n",
       "      <td>-2.111953</td>\n",
       "      <td>0.970102</td>\n",
       "      <td>0.844873</td>\n",
       "      <td>0.941053</td>\n",
       "    </tr>\n",
       "    <tr>\n",
       "      <th>E</th>\n",
       "      <td>0.725691</td>\n",
       "      <td>0.101200</td>\n",
       "      <td>-0.444215</td>\n",
       "      <td>1.510840</td>\n",
       "      <td>-1.230091</td>\n",
       "      <td>0.663425</td>\n",
       "    </tr>\n",
       "  </tbody>\n",
       "</table>\n",
       "</div>"
      ],
      "text/plain": [
       "          V         W         X         Y         Z     Total\n",
       "A -0.803610 -0.496456 -0.369699 -0.589541 -1.393947 -3.653253\n",
       "B -0.485744  0.115470  0.739598  1.394395 -1.319292  0.444426\n",
       "C -0.359874  1.345249  1.030684 -0.329996 -0.511895  1.174168\n",
       "D -0.749256  1.987287 -2.111953  0.970102  0.844873  0.941053\n",
       "E  0.725691  0.101200 -0.444215  1.510840 -1.230091  0.663425"
      ]
     },
     "execution_count": 68,
     "metadata": {},
     "output_type": "execute_result"
    }
   ],
   "source": [
    "## If you want to create a new column 'Total' which adds up all the values of the columns, we can do it as below\n",
    "df['Total'] = df.sum(axis=1)\n",
    "df"
   ]
  },
  {
   "cell_type": "code",
   "execution_count": 74,
   "id": "77e7ea0a-2bd1-43ef-bcfb-eb689149346e",
   "metadata": {},
   "outputs": [
    {
     "data": {
      "text/html": [
       "<div>\n",
       "<style scoped>\n",
       "    .dataframe tbody tr th:only-of-type {\n",
       "        vertical-align: middle;\n",
       "    }\n",
       "\n",
       "    .dataframe tbody tr th {\n",
       "        vertical-align: top;\n",
       "    }\n",
       "\n",
       "    .dataframe thead th {\n",
       "        text-align: right;\n",
       "    }\n",
       "</style>\n",
       "<table border=\"1\" class=\"dataframe\">\n",
       "  <thead>\n",
       "    <tr style=\"text-align: right;\">\n",
       "      <th></th>\n",
       "      <th>V</th>\n",
       "      <th>W</th>\n",
       "      <th>X</th>\n",
       "      <th>Y</th>\n",
       "      <th>Z</th>\n",
       "    </tr>\n",
       "  </thead>\n",
       "  <tbody>\n",
       "    <tr>\n",
       "      <th>A</th>\n",
       "      <td>-0.803610</td>\n",
       "      <td>-0.496456</td>\n",
       "      <td>-0.369699</td>\n",
       "      <td>-0.589541</td>\n",
       "      <td>-1.393947</td>\n",
       "    </tr>\n",
       "    <tr>\n",
       "      <th>B</th>\n",
       "      <td>-0.485744</td>\n",
       "      <td>0.115470</td>\n",
       "      <td>0.739598</td>\n",
       "      <td>1.394395</td>\n",
       "      <td>-1.319292</td>\n",
       "    </tr>\n",
       "    <tr>\n",
       "      <th>C</th>\n",
       "      <td>-0.359874</td>\n",
       "      <td>1.345249</td>\n",
       "      <td>1.030684</td>\n",
       "      <td>-0.329996</td>\n",
       "      <td>-0.511895</td>\n",
       "    </tr>\n",
       "    <tr>\n",
       "      <th>D</th>\n",
       "      <td>-0.749256</td>\n",
       "      <td>1.987287</td>\n",
       "      <td>-2.111953</td>\n",
       "      <td>0.970102</td>\n",
       "      <td>0.844873</td>\n",
       "    </tr>\n",
       "    <tr>\n",
       "      <th>E</th>\n",
       "      <td>0.725691</td>\n",
       "      <td>0.101200</td>\n",
       "      <td>-0.444215</td>\n",
       "      <td>1.510840</td>\n",
       "      <td>-1.230091</td>\n",
       "    </tr>\n",
       "  </tbody>\n",
       "</table>\n",
       "</div>"
      ],
      "text/plain": [
       "          V         W         X         Y         Z\n",
       "A -0.803610 -0.496456 -0.369699 -0.589541 -1.393947\n",
       "B -0.485744  0.115470  0.739598  1.394395 -1.319292\n",
       "C -0.359874  1.345249  1.030684 -0.329996 -0.511895\n",
       "D -0.749256  1.987287 -2.111953  0.970102  0.844873\n",
       "E  0.725691  0.101200 -0.444215  1.510840 -1.230091"
      ]
     },
     "execution_count": 74,
     "metadata": {},
     "output_type": "execute_result"
    }
   ],
   "source": [
    "## To drop a column, use the .drop function along with the name of the column in paranthesis. Use axis=1 to specify that the \n",
    "## value to be dropped is a column, inplace=True commits the changes to the actual dataframe (it makes it permanent) \n",
    "df.drop('Total',axis=1,inplace=True)\n",
    "df"
   ]
  },
  {
   "cell_type": "markdown",
   "id": "8216eb92-eeb1-42c5-a823-83fd0d771eba",
   "metadata": {},
   "source": [
    "## Thank You"
   ]
  }
 ],
 "metadata": {
  "kernelspec": {
   "display_name": "Python 3 (ipykernel)",
   "language": "python",
   "name": "python3"
  },
  "language_info": {
   "codemirror_mode": {
    "name": "ipython",
    "version": 3
   },
   "file_extension": ".py",
   "mimetype": "text/x-python",
   "name": "python",
   "nbconvert_exporter": "python",
   "pygments_lexer": "ipython3",
   "version": "3.12.7"
  }
 },
 "nbformat": 4,
 "nbformat_minor": 5
}
